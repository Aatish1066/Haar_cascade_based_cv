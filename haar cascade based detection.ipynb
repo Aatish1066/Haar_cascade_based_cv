{
 "cells": [
  {
   "cell_type": "code",
   "execution_count": null,
   "id": "dc3fd094",
   "metadata": {},
   "outputs": [],
   "source": [
    "import numpy as np\n",
    "import cv2\n",
    "import imutils\n",
    "from win32com.client import Dispatch\n",
    "\n",
    "speak = Dispatch( \"SAPI.SpVoice\" ).Speak\n",
    "\n",
    "gun_cascade = cv2.CascadeClassifier( 'cascade.xml' )\n",
    "camera = cv2.VideoCapture( 0 )\n",
    "\n",
    "firstFrame = None\n",
    "gun_exist = False\n",
    "\n",
    "while True:\n",
    "\n",
    "\tret, frame = camera.read( )\n",
    "\n",
    "\tframe = imutils.resize( frame, width=500 )\n",
    "\tgray = cv2.cvtColor( frame, cv2.COLOR_BGR2GRAY )\n",
    "\n",
    "\tgun = gun_cascade.detectMultiScale( gray, 1.3, 35, minSize=(20, 20) )\n",
    "\n",
    "\tif len( gun ) > 0:\n",
    "\t\tgun_exist = True\n",
    "\n",
    "\tfor (x, y, w, h) in gun:\n",
    "\t\tframe = cv2.rectangle( frame, (x, y), (x + w, y + h), (255, 0, 0), 2 )\n",
    "\t\troi_gray = gray[y:y + h, x:x + w]\n",
    "\t\troi_color = frame[y:y + h, x:x + w]\n",
    "\n",
    "\tif firstFrame is None:\n",
    "\t\tfirstFrame = gray\n",
    "\t\tcontinue\n",
    "\n",
    "\tcv2.imshow( \"THIS WORKS\", frame )\n",
    "\tkey = cv2.waitKey( 1 ) & 0xFF\n",
    "\tif key == ord( 'q' ):\n",
    "\t\tbreak\n",
    "speck=input('report')        \n",
    "\n",
    "if gun_exist:\n",
    "\t\tspeak( \"guns detected\" )\n",
    "else:\n",
    "\tspeak( \"guns NOT detected\" )\n",
    "\n",
    "camera.release( )\n",
    "cv2.destroyAllWindows( )"
   ]
  },
  {
   "cell_type": "code",
   "execution_count": null,
   "id": "1937ec35",
   "metadata": {},
   "outputs": [],
   "source": []
  },
  {
   "cell_type": "code",
   "execution_count": null,
   "id": "33e449e6",
   "metadata": {},
   "outputs": [],
   "source": []
  },
  {
   "cell_type": "code",
   "execution_count": null,
   "id": "7585e8d7",
   "metadata": {},
   "outputs": [],
   "source": []
  },
  {
   "cell_type": "code",
   "execution_count": null,
   "id": "0b8311fd",
   "metadata": {},
   "outputs": [],
   "source": []
  }
 ],
 "metadata": {
  "kernelspec": {
   "display_name": "Python 3",
   "language": "python",
   "name": "python3"
  },
  "language_info": {
   "codemirror_mode": {
    "name": "ipython",
    "version": 3
   },
   "file_extension": ".py",
   "mimetype": "text/x-python",
   "name": "python",
   "nbconvert_exporter": "python",
   "pygments_lexer": "ipython3",
   "version": "3.8.8"
  }
 },
 "nbformat": 4,
 "nbformat_minor": 5
}
